{
 "cells": [
  {
   "cell_type": "code",
   "execution_count": 17,
   "metadata": {},
   "outputs": [
    {
     "name": "stdout",
     "output_type": "stream",
     "text": [
      "Hello Python\n"
     ]
    }
   ],
   "source": [
    "#to print \"Hello Python\"\n",
    "print(\"Hello Python\")"
   ]
  },
  {
   "cell_type": "code",
   "execution_count": 14,
   "metadata": {},
   "outputs": [
    {
     "name": "stdout",
     "output_type": "stream",
     "text": [
      "Enter a first number\n",
      "50\n",
      "Enter a second number\n",
      "10\n",
      "Enter your option for operation\n",
      "1] Addition\n",
      "2] Division\n",
      "3\n"
     ]
    }
   ],
   "source": [
    "#arithmetical operations addition and division\n",
    "a = float(input(\"Enter a first number\\n\"))\n",
    "b = float(input(\"Enter a second number\\n\"))\n",
    "op_no = int(input(\"Enter your option for operation\\n1] Addition\\n2] Division\\n\"))"
   ]
  },
  {
   "cell_type": "code",
   "execution_count": 15,
   "metadata": {},
   "outputs": [
    {
     "name": "stdout",
     "output_type": "stream",
     "text": [
      "Please enter a valid option\n"
     ]
    }
   ],
   "source": [
    "if op_no==1:\n",
    "    print(a+b)\n",
    "elif op_no==2:\n",
    "    try:\n",
    "        print(a/b)\n",
    "    except ZeroDivisionError:\n",
    "        print(0)\n",
    "else:\n",
    "    print(\"Please enter a valid option\")"
   ]
  },
  {
   "cell_type": "code",
   "execution_count": 16,
   "metadata": {},
   "outputs": [
    {
     "name": "stdout",
     "output_type": "stream",
     "text": [
      "Enter a height of triangle\n",
      "10\n",
      "Enter a base of triangle\n",
      "5\n",
      "Area of traingle :  25.0\n"
     ]
    }
   ],
   "source": [
    "#find the area of a triangle\n",
    "a = float(input(\"Enter a height of triangle\\n\"))\n",
    "b = float(input(\"Enter a base of triangle\\n\"))\n",
    "print(\"Area of traingle : \", a*b/2)"
   ]
  },
  {
   "cell_type": "code",
   "execution_count": 19,
   "metadata": {},
   "outputs": [
    {
     "name": "stdout",
     "output_type": "stream",
     "text": [
      "Enter a first number\n",
      "10\n",
      "Enter a second number\n",
      "4\n",
      "Value of first number : 4.0 \n",
      "\n",
      "Value of second number : 10.0 \n",
      "\n"
     ]
    }
   ],
   "source": [
    "#swap two variables\n",
    "a = float(input(\"Enter a first number\\n\"))\n",
    "b = float(input(\"Enter a second number\\n\"))\n",
    "\n",
    "c=a\n",
    "a=b\n",
    "b=c\n",
    "\n",
    "print(\"Value of first number :\", a,\"\\n\")\n",
    "print(\"Value of second number :\", b,\"\\n\")"
   ]
  },
  {
   "cell_type": "code",
   "execution_count": 21,
   "metadata": {},
   "outputs": [
    {
     "name": "stdout",
     "output_type": "stream",
     "text": [
      "86\n"
     ]
    }
   ],
   "source": [
    "#generate a random number\n",
    "import random\n",
    "print(random.randint(0,100))"
   ]
  }
 ],
 "metadata": {
  "kernelspec": {
   "display_name": "Python 3",
   "language": "python",
   "name": "python3"
  },
  "language_info": {
   "codemirror_mode": {
    "name": "ipython",
    "version": 3
   },
   "file_extension": ".py",
   "mimetype": "text/x-python",
   "name": "python",
   "nbconvert_exporter": "python",
   "pygments_lexer": "ipython3",
   "version": "3.6.5"
  }
 },
 "nbformat": 4,
 "nbformat_minor": 2
}
