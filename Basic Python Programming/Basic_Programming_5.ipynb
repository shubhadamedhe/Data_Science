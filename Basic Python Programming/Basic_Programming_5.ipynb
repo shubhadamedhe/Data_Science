{
 "cells": [
  {
   "cell_type": "code",
   "execution_count": 1,
   "metadata": {},
   "outputs": [
    {
     "name": "stdout",
     "output_type": "stream",
     "text": [
      "Enter a first number\n",
      "54\n",
      "Enter a second number\n",
      "24\n",
      "The L.C.M. is 216\n"
     ]
    }
   ],
   "source": [
    "#to Find LCM\n",
    "def compute_lcm(x, y):\n",
    "   # choose the greater number\n",
    "    if x > y:\n",
    "        greater = x\n",
    "    else:\n",
    "        greater = y\n",
    "\n",
    "    while(True):\n",
    "        if((greater % x == 0) and (greater % y == 0)):\n",
    "            lcm = greater\n",
    "            break\n",
    "        greater += 1\n",
    "\n",
    "    return lcm\n",
    "\n",
    "num1 = int(input(\"Enter a first number\\n\"))\n",
    "num2 = int(input(\"Enter a second number\\n\"))\n",
    "\n",
    "print(\"The L.C.M. is\", compute_lcm(num1, num2))"
   ]
  },
  {
   "cell_type": "code",
   "execution_count": 23,
   "metadata": {},
   "outputs": [
    {
     "name": "stdout",
     "output_type": "stream",
     "text": [
      "Enter a first number\n",
      "54\n",
      "Enter a second number\n",
      "24\n",
      "The H.C.F. is 6\n"
     ]
    }
   ],
   "source": [
    "#to Find HCF\n",
    "def compute_hcf(x, y):\n",
    "\n",
    "# choose the smaller number\n",
    "    if x > y:\n",
    "        smaller = y\n",
    "    else:\n",
    "        smaller = x\n",
    "    for i in range(1, smaller+1):\n",
    "        if((x % i == 0) and (y % i == 0)):\n",
    "            hcf = i \n",
    "    return hcf\n",
    "\n",
    "num1 = int(input(\"Enter a first number\\n\"))\n",
    "num2 = int(input(\"Enter a second number\\n\"))\n",
    "\n",
    "print(\"The H.C.F. is\", compute_hcf(num1, num2))"
   ]
  },
  {
   "cell_type": "code",
   "execution_count": 21,
   "metadata": {},
   "outputs": [
    {
     "name": "stdout",
     "output_type": "stream",
     "text": [
      "Enter a number\n",
      "30\n",
      "Binary value of a 30  :  0b11110\n",
      "Octal value of a 30  :  0o36\n",
      "Hexadecimal value of a 30  :  0x1e\n"
     ]
    }
   ],
   "source": [
    "#to Convert Decimal to Binary, Octal and Hexadecimal\n",
    "n = int(input(\"Enter a number\\n\"))\n",
    "print(\"Binary value of a\",n ,\" : \", bin(n))\n",
    "print(\"Octal value of a\",n ,\" : \", oct(n))\n",
    "print(\"Hexadecimal value of a\",n ,\" : \", hex(n))"
   ]
  },
  {
   "cell_type": "code",
   "execution_count": 16,
   "metadata": {},
   "outputs": [
    {
     "name": "stdout",
     "output_type": "stream",
     "text": [
      "Enter a character\n",
      "a\n",
      "ASCII value of a character :  97\n"
     ]
    }
   ],
   "source": [
    "#To Find ASCII value of a character\n",
    "n = input(\"Enter a character\\n\")\n",
    "print(\"ASCII value of a character : \", ord(n))"
   ]
  },
  {
   "cell_type": "code",
   "execution_count": 11,
   "metadata": {},
   "outputs": [
    {
     "name": "stdout",
     "output_type": "stream",
     "text": [
      "Enter a first number\n",
      "30\n",
      "Enter a second number\n",
      "7\n",
      "Enter your option for operation\n",
      "1] Addition\n",
      "2] Subtraction\n",
      "3] Multiplication\n",
      "4] Division\n",
      "3\n",
      "210.0\n"
     ]
    }
   ],
   "source": [
    "#to Make a Simple Calculator with 4 basic mathematical operations\n",
    "a = float(input(\"Enter a first number\\n\"))\n",
    "b = float(input(\"Enter a second number\\n\"))\n",
    "op_no = int(input(\"Enter your option for operation\\n1] Addition\\n2] Subtraction\\n3] Multiplication\\n4] Division\\n\"))\n",
    "\n",
    "if op_no==1:\n",
    "    print(a+b)\n",
    "elif op_no==2:\n",
    "    print(a-b)\n",
    "elif op_no==3:\n",
    "    print(a*b)\n",
    "elif op_no==4:\n",
    "    try:\n",
    "        print(a/b)\n",
    "    except ZeroDivisionError:\n",
    "        print(0)\n",
    "else:\n",
    "    print(\"Please enter a valid option\")"
   ]
  }
 ],
 "metadata": {
  "kernelspec": {
   "display_name": "Python 3",
   "language": "python",
   "name": "python3"
  },
  "language_info": {
   "codemirror_mode": {
    "name": "ipython",
    "version": 3
   },
   "file_extension": ".py",
   "mimetype": "text/x-python",
   "name": "python",
   "nbconvert_exporter": "python",
   "pygments_lexer": "ipython3",
   "version": "3.6.5"
  }
 },
 "nbformat": 4,
 "nbformat_minor": 2
}
