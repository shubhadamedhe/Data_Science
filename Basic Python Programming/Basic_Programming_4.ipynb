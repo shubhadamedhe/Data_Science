{
 "cells": [
  {
   "cell_type": "code",
   "execution_count": 6,
   "metadata": {},
   "outputs": [
    {
     "name": "stdout",
     "output_type": "stream",
     "text": [
      "Enter a number6\n",
      "Fcatorial of  6  is  720\n"
     ]
    }
   ],
   "source": [
    "#to Find the Factorial of a Number\n",
    "n = int(input(\"Enter a number\"))\n",
    "\n",
    "def fact(n):\n",
    "    if n==1 or n==0:\n",
    "        return 1\n",
    "    else:\n",
    "        return n*fact(n-1)\n",
    "\n",
    "print(\"Fcatorial of \",n ,\" is \", fact(n))"
   ]
  },
  {
   "cell_type": "code",
   "execution_count": 9,
   "metadata": {},
   "outputs": [
    {
     "name": "stdout",
     "output_type": "stream",
     "text": [
      "Enter a number11\n",
      "11  *  1  =  11\n",
      "11  *  2  =  22\n",
      "11  *  3  =  33\n",
      "11  *  4  =  44\n",
      "11  *  5  =  55\n",
      "11  *  6  =  66\n",
      "11  *  7  =  77\n",
      "11  *  8  =  88\n",
      "11  *  9  =  99\n",
      "11  *  10  =  110\n"
     ]
    }
   ],
   "source": [
    "#to Display the multiplication Table\n",
    "n = int(input(\"Enter a number\"))\n",
    "\n",
    "for i in range(1, 11):\n",
    "    print(n, \" * \",i ,\" = \", n*i)\n"
   ]
  },
  {
   "cell_type": "code",
   "execution_count": 14,
   "metadata": {},
   "outputs": [
    {
     "name": "stdout",
     "output_type": "stream",
     "text": [
      "Enter a limit 7\n",
      "0\n",
      "1\n",
      "1\n",
      "2\n",
      "3\n",
      "5\n",
      "8\n"
     ]
    }
   ],
   "source": [
    "#to Print the Fibonacci sequence\n",
    "n1 = 0\n",
    "n2 = 1\n",
    "count = 0\n",
    "\n",
    "n = int(input(\"Enter a limit \"))\n",
    "\n",
    "while count<n:\n",
    "    print(n1)\n",
    "    total = n1 + n2\n",
    "    n1 = n2\n",
    "    n2 = total\n",
    "    count = count+1\n"
   ]
  },
  {
   "cell_type": "code",
   "execution_count": 23,
   "metadata": {},
   "outputs": [
    {
     "name": "stdout",
     "output_type": "stream",
     "text": [
      "Enter a number 1634\n",
      "1634  is Armstrong number\n"
     ]
    }
   ],
   "source": [
    "#to Check Armstrong Number\n",
    "n = int(input(\"Enter a number \"))\n",
    "order = len(str(n))\n",
    "sum = 0\n",
    "temp = n\n",
    "\n",
    "while temp>0:\n",
    "    digit = temp%10\n",
    "    sum = sum + pow(digit,order)\n",
    "    temp = temp//10\n",
    "    \n",
    "if sum==n:\n",
    "    print(n,\" is Armstrong number\")\n",
    "else: \n",
    "    print(n,\" is not Armstrong number\")"
   ]
  },
  {
   "cell_type": "code",
   "execution_count": 32,
   "metadata": {},
   "outputs": [
    {
     "name": "stdout",
     "output_type": "stream",
     "text": [
      "Enter a lower limit 100\n",
      "Enter a higher limit 500\n",
      "153\n",
      "370\n",
      "371\n",
      "407\n"
     ]
    }
   ],
   "source": [
    "#to Find Armstrong Number in an Interval\n",
    "l = int(input(\"Enter a lower limit \"))\n",
    "h = int(input(\"Enter a higher limit \"))\n",
    "\n",
    "for i in range(l, h+1):\n",
    "\n",
    "    order = len(str(i))\n",
    "    sum = 0\n",
    "    temp = i\n",
    "\n",
    "    while temp>0:\n",
    "        digit = temp%10\n",
    "        sum = sum + pow(digit,order)\n",
    "        temp = temp//10\n",
    "\n",
    "    if sum==i:\n",
    "        print(i)\n"
   ]
  },
  {
   "cell_type": "code",
   "execution_count": 35,
   "metadata": {},
   "outputs": [
    {
     "name": "stdout",
     "output_type": "stream",
     "text": [
      "Enter a number7\n",
      "Sum of  7  natural number is  28.0\n"
     ]
    }
   ],
   "source": [
    "#to Find the Sum of Natural Numbers\n",
    "n = int(input(\"Enter a number\"))\n",
    "print(\"Sum of \",n ,\" natural number is \", n*(n+1)/2)"
   ]
  },
  {
   "cell_type": "code",
   "execution_count": null,
   "metadata": {},
   "outputs": [],
   "source": []
  },
  {
   "cell_type": "code",
   "execution_count": null,
   "metadata": {},
   "outputs": [],
   "source": []
  }
 ],
 "metadata": {
  "kernelspec": {
   "display_name": "Python 3",
   "language": "python",
   "name": "python3"
  },
  "language_info": {
   "codemirror_mode": {
    "name": "ipython",
    "version": 3
   },
   "file_extension": ".py",
   "mimetype": "text/x-python",
   "name": "python",
   "nbconvert_exporter": "python",
   "pygments_lexer": "ipython3",
   "version": "3.6.5"
  }
 },
 "nbformat": 4,
 "nbformat_minor": 2
}
